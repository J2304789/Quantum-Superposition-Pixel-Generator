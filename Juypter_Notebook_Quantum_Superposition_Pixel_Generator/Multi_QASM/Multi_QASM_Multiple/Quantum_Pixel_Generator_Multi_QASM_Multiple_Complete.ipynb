{
 "cells": [
  {
   "cell_type": "code",
   "execution_count": 1,
   "metadata": {},
   "outputs": [],
   "source": [
    "#Import Qiskit and Qiskit.Visualization\n",
    "import qiskit\n",
    "from qiskit import QuantumCircuit, assemble, Aer,execute\n",
    "from qiskit.visualization import plot_bloch_multivector\n",
    "from math import sqrt, pi\n",
    "#Create List for Superposition Pixel Generator\n",
    "from itertools import islice\n",
    "#Graph Superposition Pixel\n",
    "import turtle"
   ]
  },
  {
   "cell_type": "code",
   "execution_count": 2,
   "metadata": {},
   "outputs": [],
   "source": [
    "#Set Current Qiskit Backend to QASM Simulator \n",
    "#Switch if using IBM Quantum Computers\n",
    "sim=Aer.get_backend('qasm_simulator')"
   ]
  },
  {
   "cell_type": "code",
   "execution_count": 3,
   "metadata": {},
   "outputs": [],
   "source": [
    "#Intializes Quantum Circuit with 2 Qubits and 1 Classical Bit\n",
    "qc=QuantumCircuit(2,1)\n",
    "\n",
    "#Amount of times simulation is run\n",
    "sim_run=4900"
   ]
  },
  {
   "cell_type": "code",
   "execution_count": 4,
   "metadata": {},
   "outputs": [
    {
     "data": {
      "text/plain": [
       "<qiskit.circuit.instructionset.InstructionSet at 0x15410f53f40>"
      ]
     },
     "execution_count": 4,
     "metadata": {},
     "output_type": "execute_result"
    }
   ],
   "source": [
    "#Sets 1st Qubit into superposition(|+> basis) using controlled x gate and phase shift s gate\n",
    "qc.rx(pi/2,1)#Set to |-i>\n",
    "qc.s(1)#Set to |+>\n"
   ]
  },
  {
   "cell_type": "code",
   "execution_count": 5,
   "metadata": {},
   "outputs": [
    {
     "data": {
      "text/plain": [
       "<qiskit.circuit.instructionset.InstructionSet at 0x1540f2f3000>"
      ]
     },
     "execution_count": 5,
     "metadata": {},
     "output_type": "execute_result"
    }
   ],
   "source": [
    "#Collapses superposition of 1st Qubit and assigns value to corrosponding Classical bit\n",
    "qc.measure(1,0)"
   ]
  },
  {
   "cell_type": "code",
   "execution_count": 6,
   "metadata": {},
   "outputs": [],
   "source": [
    "#Run code to check Bloch spheres of Qubits in superposition(|+> basis)\n",
    "#qc.save_statevector()\n",
    "#qobj=assemble(qc)\n",
    "#result=sim.run(qobj).result().get_statevector()\n",
    "#plot_bloch_multivector(result)"
   ]
  },
  {
   "cell_type": "code",
   "execution_count": 7,
   "metadata": {},
   "outputs": [
    {
     "data": {
      "text/plain": [
       "<qiskit.circuit.instructionset.InstructionSet at 0x1543007ec00>"
      ]
     },
     "execution_count": 7,
     "metadata": {},
     "output_type": "execute_result"
    }
   ],
   "source": [
    "#sets 2nd Qubit into superposition(|+> or |-> basis) based on if Qubits 3-6 were measured as |0> or |1>\n",
    "qc.ry(pi/2,0)#Set to |+>\n",
    "qc.cz(1,0)#Set to |-> if control qubit is |1>,else stays at |+>\n",
    "qc.ry(-pi,0)#Set to |+> if qubit was at |->,else shifts to |->"
   ]
  },
  {
   "cell_type": "code",
   "execution_count": 8,
   "metadata": {},
   "outputs": [],
   "source": [
    "#Run code to check Bloch spheres of Qubits in superposition(|+>  or |-> basis)\n",
    "#qc.save_statevector()\n",
    "#qobj=assemble(qc)\n",
    "#result=sim.run(qobj).result().get_statevector()\n",
    "#plot_bloch_multivector(result)"
   ]
  },
  {
   "cell_type": "code",
   "execution_count": 9,
   "metadata": {},
   "outputs": [
    {
     "data": {
      "text/plain": [
       "<qiskit.circuit.instructionset.InstructionSet at 0x154c1c43fc0>"
      ]
     },
     "execution_count": 9,
     "metadata": {},
     "output_type": "execute_result"
    }
   ],
   "source": [
    "#Creates barrier between gates and measurements for qc.draw() and optimization level\n",
    "qc.barrier()"
   ]
  },
  {
   "cell_type": "code",
   "execution_count": 10,
   "metadata": {},
   "outputs": [
    {
     "data": {
      "text/plain": [
       "<qiskit.circuit.instructionset.InstructionSet at 0x154c1c40040>"
      ]
     },
     "execution_count": 10,
     "metadata": {},
     "output_type": "execute_result"
    }
   ],
   "source": [
    "#Collapses superposition of 2nd Qubit and assigns value to corrosponding Classical bit\n",
    "qc.measure(0,0)"
   ]
  },
  {
   "cell_type": "code",
   "execution_count": 11,
   "metadata": {},
   "outputs": [
    {
     "data": {
      "image/png": "[encoded data removed]",
      "text/plain": [
       "<PIL.Image.Image image mode=RGB size=497x117>"
      ]
     },
     "execution_count": 11,
     "metadata": {},
     "output_type": "execute_result"
    }
   ],
   "source": [
    "#Draws Quantum Circuit\n",
    "qc.draw(output=\"latex\")"
   ]
  },
  {
   "cell_type": "code",
   "execution_count": 12,
   "metadata": {},
   "outputs": [],
   "source": [
    "#memory=True to access indivual simulation qubit measurement values\n",
    "job=execute(qc,sim,shots=sim_run,memory=True)\n",
    "result=job.result()\n",
    "counts=result.get_counts()\n",
    "memory=result.get_memory()\n",
    "\n",
    "#print(memory)\n",
    "#print(len(memory))"
   ]
  },
  {
   "cell_type": "code",
   "execution_count": 13,
   "metadata": {},
   "outputs": [],
   "source": [
    "#creates lists for iterations\n",
    "list_length=[]\n",
    "for i in range (0,70):\n",
    "    list_length.append(70)\n",
    "\n",
    "#print(list_length)\n",
    "#print(len(list_length))"
   ]
  },
  {
   "cell_type": "code",
   "execution_count": 14,
   "metadata": {},
   "outputs": [],
   "source": [
    "#Create List for Superposition Pixel Generator\n",
    "Input = iter(memory)\n",
    "Quantum_Pixels = [list(islice(Input, x))\n",
    "          for x in list_length]\n",
    "\n",
    "#print(Quantum_Pixels)"
   ]
  },
  {
   "cell_type": "code",
   "execution_count": 15,
   "metadata": {},
   "outputs": [],
   "source": [
    "Zero=str(input(\"Enter Hexadecimal code or Specified Value of 0:\"))\n",
    "One=str(input(\"Enter Hexadecimal code or Specified Value of 1:\"))"
   ]
  },
  {
   "cell_type": "code",
   "execution_count": 16,
   "metadata": {},
   "outputs": [],
   "source": [
    "#Start Draw and set Draw to immediate print\n",
    "Draw = turtle.Turtle()\n",
    "wn=turtle.Screen()\n",
    "wn.tracer(0)\n",
    "square_int = 30\t"
   ]
  },
  {
   "cell_type": "code",
   "execution_count": 17,
   "metadata": {},
   "outputs": [],
   "source": [
    "#Set Draw to top left corner of specified Print_Vertical and Print_Horizontal\n",
    "Draw.penup()\n",
    "Draw.forward(-960)\n",
    "Draw.setheading(90)\n",
    "Draw.forward(475)\n",
    "Draw.setheading(0)"
   ]
  },
  {
   "cell_type": "code",
   "execution_count": 18,
   "metadata": {},
   "outputs": [
    {
     "ename": "TclError",
     "evalue": "invalid command name \".!canvas\"",
     "output_type": "error",
     "traceback": [
      "\u001b[1;31m---------------------------------------------------------------------------\u001b[0m",
      "\u001b[1;31mTclError\u001b[0m                                  Traceback (most recent call last)",
      "\u001b[1;32mc:\\Users\\User\\Documents\\GitHub\\Quantum-Superposition-Pixel-Generator-Test\\Juypter_Notebook_Quantum_Superposition_Pixel_Generator\\Multi_QASM\\Multi_QASM_Multiple\\Quantum_Pixel_Generator_Multi_QASM_Multiple_Complete.ipynb Cell 18'\u001b[0m in \u001b[0;36m<cell line: 1>\u001b[1;34m()\u001b[0m\n\u001b[0;32m     <a href='vscode-notebook-cell:/c%3A/Users/User/Documents/GitHub/Quantum-Superposition-Pixel-Generator-Test/Juypter_Notebook_Quantum_Superposition_Pixel_Generator/Multi_QASM/Multi_QASM_Multiple/Quantum_Pixel_Generator_Multi_QASM_Multiple_Complete.ipynb#ch0000017?line=34'>35</a>\u001b[0m     Draw\u001b[39m.\u001b[39mend_fill()\n\u001b[0;32m     <a href='vscode-notebook-cell:/c%3A/Users/User/Documents/GitHub/Quantum-Superposition-Pixel-Generator-Test/Juypter_Notebook_Quantum_Superposition_Pixel_Generator/Multi_QASM/Multi_QASM_Multiple/Quantum_Pixel_Generator_Multi_QASM_Multiple_Complete.ipynb#ch0000017?line=35'>36</a>\u001b[0m     Draw\u001b[39m.\u001b[39msetheading(\u001b[39m0\u001b[39m)\n\u001b[1;32m---> <a href='vscode-notebook-cell:/c%3A/Users/User/Documents/GitHub/Quantum-Superposition-Pixel-Generator-Test/Juypter_Notebook_Quantum_Superposition_Pixel_Generator/Multi_QASM/Multi_QASM_Multiple/Quantum_Pixel_Generator_Multi_QASM_Multiple_Complete.ipynb#ch0000017?line=37'>38</a>\u001b[0m Draw\u001b[39m.\u001b[39;49mpenup()\n\u001b[0;32m     <a href='vscode-notebook-cell:/c%3A/Users/User/Documents/GitHub/Quantum-Superposition-Pixel-Generator-Test/Juypter_Notebook_Quantum_Superposition_Pixel_Generator/Multi_QASM/Multi_QASM_Multiple/Quantum_Pixel_Generator_Multi_QASM_Multiple_Complete.ipynb#ch0000017?line=38'>39</a>\u001b[0m Draw\u001b[39m.\u001b[39mforward(square_int)\n\u001b[0;32m     <a href='vscode-notebook-cell:/c%3A/Users/User/Documents/GitHub/Quantum-Superposition-Pixel-Generator-Test/Juypter_Notebook_Quantum_Superposition_Pixel_Generator/Multi_QASM/Multi_QASM_Multiple/Quantum_Pixel_Generator_Multi_QASM_Multiple_Complete.ipynb#ch0000017?line=39'>40</a>\u001b[0m Draw\u001b[39m.\u001b[39mpendown()\n",
      "File \u001b[1;32mc:\\Users\\User\\anaconda3\\envs\\Qiskit\\lib\\turtle.py:2108\u001b[0m, in \u001b[0;36mTPen.penup\u001b[1;34m(self)\u001b[0m\n\u001b[0;32m   2106\u001b[0m \u001b[39mif\u001b[39;00m \u001b[39mnot\u001b[39;00m \u001b[39mself\u001b[39m\u001b[39m.\u001b[39m_drawing:\n\u001b[0;32m   2107\u001b[0m     \u001b[39mreturn\u001b[39;00m\n\u001b[1;32m-> 2108\u001b[0m \u001b[39mself\u001b[39;49m\u001b[39m.\u001b[39;49mpen(pendown\u001b[39m=\u001b[39;49m\u001b[39mFalse\u001b[39;49;00m)\n",
      "File \u001b[1;32mc:\\Users\\User\\anaconda3\\envs\\Qiskit\\lib\\turtle.py:2426\u001b[0m, in \u001b[0;36mTPen.pen\u001b[1;34m(self, pen, **pendict)\u001b[0m\n\u001b[0;32m   2424\u001b[0m         newLine \u001b[39m=\u001b[39m \u001b[39mTrue\u001b[39;00m\n\u001b[0;32m   2425\u001b[0m \u001b[39mif\u001b[39;00m newLine:\n\u001b[1;32m-> 2426\u001b[0m     \u001b[39mself\u001b[39;49m\u001b[39m.\u001b[39;49m_newLine()\n\u001b[0;32m   2427\u001b[0m \u001b[39mif\u001b[39;00m \u001b[39m\"\u001b[39m\u001b[39mpendown\u001b[39m\u001b[39m\"\u001b[39m \u001b[39min\u001b[39;00m p:\n\u001b[0;32m   2428\u001b[0m     \u001b[39mself\u001b[39m\u001b[39m.\u001b[39m_drawing \u001b[39m=\u001b[39m p[\u001b[39m\"\u001b[39m\u001b[39mpendown\u001b[39m\u001b[39m\"\u001b[39m]\n",
      "File \u001b[1;32mc:\\Users\\User\\anaconda3\\envs\\Qiskit\\lib\\turtle.py:3288\u001b[0m, in \u001b[0;36mRawTurtle._newLine\u001b[1;34m(self, usePos)\u001b[0m\n\u001b[0;32m   3283\u001b[0m \u001b[39m\"\"\"Closes current line item and starts a new one.\u001b[39;00m\n\u001b[0;32m   3284\u001b[0m \u001b[39m   Remark: if current line became too long, animation\u001b[39;00m\n\u001b[0;32m   3285\u001b[0m \u001b[39m   performance (via _drawline) slowed down considerably.\u001b[39;00m\n\u001b[0;32m   3286\u001b[0m \u001b[39m\"\"\"\u001b[39;00m\n\u001b[0;32m   3287\u001b[0m \u001b[39mif\u001b[39;00m \u001b[39mlen\u001b[39m(\u001b[39mself\u001b[39m\u001b[39m.\u001b[39mcurrentLine) \u001b[39m>\u001b[39m \u001b[39m1\u001b[39m:\n\u001b[1;32m-> 3288\u001b[0m     \u001b[39mself\u001b[39;49m\u001b[39m.\u001b[39;49mscreen\u001b[39m.\u001b[39;49m_drawline(\u001b[39mself\u001b[39;49m\u001b[39m.\u001b[39;49mcurrentLineItem, \u001b[39mself\u001b[39;49m\u001b[39m.\u001b[39;49mcurrentLine,\n\u001b[0;32m   3289\u001b[0m                               \u001b[39mself\u001b[39;49m\u001b[39m.\u001b[39;49m_pencolor, \u001b[39mself\u001b[39;49m\u001b[39m.\u001b[39;49m_pensize)\n\u001b[0;32m   3290\u001b[0m     \u001b[39mself\u001b[39m\u001b[39m.\u001b[39mcurrentLineItem \u001b[39m=\u001b[39m \u001b[39mself\u001b[39m\u001b[39m.\u001b[39mscreen\u001b[39m.\u001b[39m_createline()\n\u001b[0;32m   3291\u001b[0m     \u001b[39mself\u001b[39m\u001b[39m.\u001b[39mitems\u001b[39m.\u001b[39mappend(\u001b[39mself\u001b[39m\u001b[39m.\u001b[39mcurrentLineItem)\n",
      "File \u001b[1;32mc:\\Users\\User\\anaconda3\\envs\\Qiskit\\lib\\turtle.py:544\u001b[0m, in \u001b[0;36mTurtleScreenBase._drawline\u001b[1;34m(self, lineitem, coordlist, fill, width, top)\u001b[0m\n\u001b[0;32m    542\u001b[0m         cl\u001b[39m.\u001b[39mappend(x \u001b[39m*\u001b[39m \u001b[39mself\u001b[39m\u001b[39m.\u001b[39mxscale)\n\u001b[0;32m    543\u001b[0m         cl\u001b[39m.\u001b[39mappend(\u001b[39m-\u001b[39my \u001b[39m*\u001b[39m \u001b[39mself\u001b[39m\u001b[39m.\u001b[39myscale)\n\u001b[1;32m--> 544\u001b[0m     \u001b[39mself\u001b[39;49m\u001b[39m.\u001b[39;49mcv\u001b[39m.\u001b[39;49mcoords(lineitem, \u001b[39m*\u001b[39;49mcl)\n\u001b[0;32m    545\u001b[0m \u001b[39mif\u001b[39;00m fill \u001b[39mis\u001b[39;00m \u001b[39mnot\u001b[39;00m \u001b[39mNone\u001b[39;00m:\n\u001b[0;32m    546\u001b[0m     \u001b[39mself\u001b[39m\u001b[39m.\u001b[39mcv\u001b[39m.\u001b[39mitemconfigure(lineitem, fill\u001b[39m=\u001b[39mfill)\n",
      "File \u001b[1;32m<string>:1\u001b[0m, in \u001b[0;36mcoords\u001b[1;34m(self, *args, **kw)\u001b[0m\n",
      "File \u001b[1;32mc:\\Users\\User\\anaconda3\\envs\\Qiskit\\lib\\tkinter\\__init__.py:2795\u001b[0m, in \u001b[0;36mCanvas.coords\u001b[1;34m(self, *args)\u001b[0m\n\u001b[0;32m   2791\u001b[0m \u001b[39m\"\"\"Return a list of coordinates for the item given in ARGS.\"\"\"\u001b[39;00m\n\u001b[0;32m   2792\u001b[0m \u001b[39m# XXX Should use _flatten on args\u001b[39;00m\n\u001b[0;32m   2793\u001b[0m \u001b[39mreturn\u001b[39;00m [\u001b[39mself\u001b[39m\u001b[39m.\u001b[39mtk\u001b[39m.\u001b[39mgetdouble(x) \u001b[39mfor\u001b[39;00m x \u001b[39min\u001b[39;00m\n\u001b[0;32m   2794\u001b[0m                    \u001b[39mself\u001b[39m\u001b[39m.\u001b[39mtk\u001b[39m.\u001b[39msplitlist(\n\u001b[1;32m-> 2795\u001b[0m            \u001b[39mself\u001b[39;49m\u001b[39m.\u001b[39;49mtk\u001b[39m.\u001b[39;49mcall((\u001b[39mself\u001b[39;49m\u001b[39m.\u001b[39;49m_w, \u001b[39m'\u001b[39;49m\u001b[39mcoords\u001b[39;49m\u001b[39m'\u001b[39;49m) \u001b[39m+\u001b[39;49m args))]\n",
      "\u001b[1;31mTclError\u001b[0m: invalid command name \".!canvas\""
     ]
    }
   ],
   "source": [
    "for x in range (0,len(Quantum_Pixels)):\n",
    "    for i in range (0,len(Quantum_Pixels[x])):\n",
    "        if Quantum_Pixels[x][i]==\"1\":\n",
    "\n",
    "            Draw.color(One)\n",
    "            Draw.begin_fill()\n",
    "            Draw.forward(square_int)\n",
    "\n",
    "            Draw.left(90)\n",
    "            Draw.forward(square_int)\n",
    "\n",
    "            Draw.left(90)\n",
    "            Draw.forward(square_int)\n",
    "\n",
    "            Draw.left(90)\n",
    "            Draw.forward(square_int)\n",
    "\n",
    "            Draw.end_fill()\n",
    "            Draw.setheading(0)\n",
    "        else:\n",
    "            Draw.color(Zero)\n",
    "            Draw.begin_fill()\n",
    "\n",
    "            Draw.forward(square_int)\n",
    "            \n",
    "            Draw.left(90)\n",
    "            Draw.forward(square_int)\n",
    "\n",
    "            Draw.left(90)\n",
    "            Draw.forward(square_int)\n",
    "\n",
    "            Draw.left(90)\n",
    "            Draw.forward(square_int)\n",
    "\n",
    "            Draw.end_fill()\n",
    "            Draw.setheading(0)\n",
    "\n",
    "        Draw.penup()\n",
    "        Draw.forward(square_int)\n",
    "        Draw.pendown()\n",
    "        \t\n",
    "    Draw.setheading(270) \n",
    "    Draw.penup()\n",
    "    Draw.forward(square_int)\n",
    "    Draw.setheading(180) \n",
    "    Draw.forward(square_int*len(Quantum_Pixels[x]))\n",
    "    Draw.setheading(0)\n",
    "    Draw.pendown()\n",
    "\t\n",
    "Draw.getscreen().update()\t\n",
    "turtle.done()"
   ]
  }
 ],
 "metadata": {
  "kernelspec": {
   "display_name": "Python 3.10.4 ('Qiskit')",
   "language": "python",
   "name": "python3"
  },
  "language_info": {
   "codemirror_mode": {
    "name": "ipython",
    "version": 3
   },
   "file_extension": ".py",
   "mimetype": "text/x-python",
   "name": "python",
   "nbconvert_exporter": "python",
   "pygments_lexer": "ipython3",
   "version": "3.10.4"
  },
  "orig_nbformat": 4,
  "vscode": {
   "interpreter": {
    "hash": "09240a276b16b6fde8f96eabb23ee62f2404dee27ecaaf4330ce2e4b5e24310a"
   }
  }
 },
 "nbformat": 4,
 "nbformat_minor": 2
}
